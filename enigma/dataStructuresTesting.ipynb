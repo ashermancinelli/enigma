{
 "cells": [
  {
   "cell_type": "code",
   "execution_count": 15,
   "metadata": {},
   "outputs": [],
   "source": [
    "letters = 'ABCDEFGHIJKLMNOPQRSTUVWXYZ'.lower()\n",
    "\n",
    "_rotorDicts = [\n",
    "    { char.lower(): char.lower() for char in letters },\n",
    "    { char.lower(): char.lower() for char in letters },\n",
    "    { char.lower(): char.lower() for char in letters },\n",
    "    { char.lower(): char.lower() for char in letters }\n",
    "]\n",
    "\n",
    "_shuffleKeys = [\n",
    "    [['j','p'],['y','l'],['f','v'],['n','u'],['k','g'],['w','h'],['o','d'],['e','c'],['b','q'],['t','z'],['i','a'],['r','m'],['x','s']],\n",
    "    [['o','q'],['y','m'],['a','g'],['i','j'],['s','r'],['v','k'],['z','u'],['b','t'],['c','e'],['w','h'],['n','l'],['f','p'],['d','x']],\n",
    "    [['q','x'],['z','t'],['y','o'],['s','r'],['i','d'],['h','w'],['f','m'],['c','k'],['v','g'],['b','e'],['u','j'],['l','p'],['n','a']],\n",
    "    [['q','h'],['l','t'],['v','n'],['p','b'],['k','a'],['d','z'],['r','m'],['f','y'],['e','w'],['u','o'],['i','x'],['g','j'],['s','c']]\n",
    "]\n",
    "\n",
    "for index in range(4):\n",
    "    for pair in _shuffleKeys[index]:\n",
    "        _rotorDicts[index][pair[0]] = pair[1]\n",
    "        _rotorDicts[index][pair[1]] = pair[0]\n"
   ]
  },
  {
   "cell_type": "code",
   "execution_count": 16,
   "metadata": {},
   "outputs": [
    {
     "data": {
      "text/plain": [
       "[{'a': 'i',\n",
       "  'b': 'q',\n",
       "  'c': 'e',\n",
       "  'd': 'o',\n",
       "  'e': 'c',\n",
       "  'f': 'v',\n",
       "  'g': 'k',\n",
       "  'h': 'w',\n",
       "  'i': 'a',\n",
       "  'j': 'p',\n",
       "  'k': 'g',\n",
       "  'l': 'y',\n",
       "  'm': 'r',\n",
       "  'n': 'u',\n",
       "  'o': 'd',\n",
       "  'p': 'j',\n",
       "  'q': 'b',\n",
       "  'r': 'm',\n",
       "  's': 'x',\n",
       "  't': 'z',\n",
       "  'u': 'n',\n",
       "  'v': 'f',\n",
       "  'w': 'h',\n",
       "  'x': 's',\n",
       "  'y': 'l',\n",
       "  'z': 't'},\n",
       " {'a': 'g',\n",
       "  'b': 't',\n",
       "  'c': 'e',\n",
       "  'd': 'x',\n",
       "  'e': 'c',\n",
       "  'f': 'p',\n",
       "  'g': 'a',\n",
       "  'h': 'w',\n",
       "  'i': 'j',\n",
       "  'j': 'i',\n",
       "  'k': 'v',\n",
       "  'l': 'n',\n",
       "  'm': 'y',\n",
       "  'n': 'l',\n",
       "  'o': 'q',\n",
       "  'p': 'f',\n",
       "  'q': 'o',\n",
       "  'r': 's',\n",
       "  's': 'r',\n",
       "  't': 'b',\n",
       "  'u': 'z',\n",
       "  'v': 'k',\n",
       "  'w': 'h',\n",
       "  'x': 'd',\n",
       "  'y': 'm',\n",
       "  'z': 'u'},\n",
       " {'a': 'n',\n",
       "  'b': 'e',\n",
       "  'c': 'k',\n",
       "  'd': 'i',\n",
       "  'e': 'b',\n",
       "  'f': 'm',\n",
       "  'g': 'v',\n",
       "  'h': 'w',\n",
       "  'i': 'd',\n",
       "  'j': 'u',\n",
       "  'k': 'c',\n",
       "  'l': 'p',\n",
       "  'm': 'f',\n",
       "  'n': 'a',\n",
       "  'o': 'y',\n",
       "  'p': 'l',\n",
       "  'q': 'x',\n",
       "  'r': 's',\n",
       "  's': 'r',\n",
       "  't': 'z',\n",
       "  'u': 'j',\n",
       "  'v': 'g',\n",
       "  'w': 'h',\n",
       "  'x': 'q',\n",
       "  'y': 'o',\n",
       "  'z': 't'},\n",
       " {'a': 'k',\n",
       "  'b': 'p',\n",
       "  'c': 's',\n",
       "  'd': 'z',\n",
       "  'e': 'w',\n",
       "  'f': 'y',\n",
       "  'g': 'j',\n",
       "  'h': 'q',\n",
       "  'i': 'x',\n",
       "  'j': 'g',\n",
       "  'k': 'a',\n",
       "  'l': 't',\n",
       "  'm': 'r',\n",
       "  'n': 'v',\n",
       "  'o': 'u',\n",
       "  'p': 'b',\n",
       "  'q': 'h',\n",
       "  'r': 'm',\n",
       "  's': 'c',\n",
       "  't': 'l',\n",
       "  'u': 'o',\n",
       "  'v': 'n',\n",
       "  'w': 'e',\n",
       "  'x': 'i',\n",
       "  'y': 'f',\n",
       "  'z': 'd'}]"
      ]
     },
     "execution_count": 16,
     "metadata": {},
     "output_type": "execute_result"
    }
   ],
   "source": [
    "_rotorDicts"
   ]
  },
  {
   "cell_type": "code",
   "execution_count": 17,
   "metadata": {},
   "outputs": [
    {
     "ename": "SyntaxError",
     "evalue": "invalid syntax (dataStructures.py, line 68)",
     "output_type": "error",
     "traceback": [
      "Traceback \u001b[1;36m(most recent call last)\u001b[0m:\n",
      "  File \u001b[0;32m\"c:\\users\\hp\\appdata\\local\\conda\\conda\\envs\\py36\\lib\\site-packages\\IPython\\core\\interactiveshell.py\"\u001b[0m, line \u001b[0;32m2910\u001b[0m, in \u001b[0;35mrun_code\u001b[0m\n    exec(code_obj, self.user_global_ns, self.user_ns)\n",
      "\u001b[1;36m  File \u001b[1;32m\"<ipython-input-17-351339695398>\"\u001b[1;36m, line \u001b[1;32m1\u001b[1;36m, in \u001b[1;35m<module>\u001b[1;36m\u001b[0m\n\u001b[1;33m    from dataStructures.py import *\u001b[0m\n",
      "\u001b[1;36m  File \u001b[1;32m\"C:\\Users\\HP\\Documents\\projects\\enigma\\enigma\\dataStructures.py\"\u001b[1;36m, line \u001b[1;32m68\u001b[0m\n\u001b[1;33m    __init__(self, activeRotorIndeces, plugBoardPairs):\u001b[0m\n\u001b[1;37m                                                       ^\u001b[0m\n\u001b[1;31mSyntaxError\u001b[0m\u001b[1;31m:\u001b[0m invalid syntax\n"
     ]
    }
   ],
   "source": [
    "from dataStructures.py import *\n"
   ]
  },
  {
   "cell_type": "code",
   "execution_count": null,
   "metadata": {},
   "outputs": [],
   "source": []
  }
 ],
 "metadata": {
  "kernelspec": {
   "display_name": "Python 3",
   "language": "python",
   "name": "python3"
  },
  "language_info": {
   "codemirror_mode": {
    "name": "ipython",
    "version": 3
   },
   "file_extension": ".py",
   "mimetype": "text/x-python",
   "name": "python",
   "nbconvert_exporter": "python",
   "pygments_lexer": "ipython3",
   "version": "3.6.2"
  }
 },
 "nbformat": 4,
 "nbformat_minor": 2
}
