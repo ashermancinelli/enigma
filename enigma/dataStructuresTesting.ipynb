{
 "cells": [
  {
   "cell_type": "code",
   "execution_count": 15,
   "metadata": {},
   "outputs": [],
   "source": [
    "letters = 'ABCDEFGHIJKLMNOPQRSTUVWXYZ'.lower()\n",
    "\n",
    "_rotorDicts = [\n",
    "    { char.lower(): char.lower() for char in letters },\n",
    "    { char.lower(): char.lower() for char in letters },\n",
    "    { char.lower(): char.lower() for char in letters },\n",
    "    { char.lower(): char.lower() for char in letters }\n",
    "]\n",
    "\n",
    "_shuffleKeys = [\n",
    "    [['j','p'],['y','l'],['f','v'],['n','u'],['k','g'],['w','h'],['o','d'],['e','c'],['b','q'],['t','z'],['i','a'],['r','m'],['x','s']],\n",
    "    [['o','q'],['y','m'],['a','g'],['i','j'],['s','r'],['v','k'],['z','u'],['b','t'],['c','e'],['w','h'],['n','l'],['f','p'],['d','x']],\n",
    "    [['q','x'],['z','t'],['y','o'],['s','r'],['i','d'],['h','w'],['f','m'],['c','k'],['v','g'],['b','e'],['u','j'],['l','p'],['n','a']],\n",
    "    [['q','h'],['l','t'],['v','n'],['p','b'],['k','a'],['d','z'],['r','m'],['f','y'],['e','w'],['u','o'],['i','x'],['g','j'],['s','c']]\n",
    "]\n",
    "\n",
    "for index in range(4):\n",
    "    for pair in _shuffleKeys[index]:\n",
    "        _rotorDicts[index][pair[0]] = pair[1]\n",
    "        _rotorDicts[index][pair[1]] = pair[0]\n"
   ]
  },
  {
   "cell_type": "code",
   "execution_count": 16,
   "metadata": {},
   "outputs": [
    {
     "data": {
      "text/plain": [
       "[{'a': 'i',\n",
       "  'b': 'q',\n",
       "  'c': 'e',\n",
       "  'd': 'o',\n",
       "  'e': 'c',\n",
       "  'f': 'v',\n",
       "  'g': 'k',\n",
       "  'h': 'w',\n",
       "  'i': 'a',\n",
       "  'j': 'p',\n",
       "  'k': 'g',\n",
       "  'l': 'y',\n",
       "  'm': 'r',\n",
       "  'n': 'u',\n",
       "  'o': 'd',\n",
       "  'p': 'j',\n",
       "  'q': 'b',\n",
       "  'r': 'm',\n",
       "  's': 'x',\n",
       "  't': 'z',\n",
       "  'u': 'n',\n",
       "  'v': 'f',\n",
       "  'w': 'h',\n",
       "  'x': 's',\n",
       "  'y': 'l',\n",
       "  'z': 't'},\n",
       " {'a': 'g',\n",
       "  'b': 't',\n",
       "  'c': 'e',\n",
       "  'd': 'x',\n",
       "  'e': 'c',\n",
       "  'f': 'p',\n",
       "  'g': 'a',\n",
       "  'h': 'w',\n",
       "  'i': 'j',\n",
       "  'j': 'i',\n",
       "  'k': 'v',\n",
       "  'l': 'n',\n",
       "  'm': 'y',\n",
       "  'n': 'l',\n",
       "  'o': 'q',\n",
       "  'p': 'f',\n",
       "  'q': 'o',\n",
       "  'r': 's',\n",
       "  's': 'r',\n",
       "  't': 'b',\n",
       "  'u': 'z',\n",
       "  'v': 'k',\n",
       "  'w': 'h',\n",
       "  'x': 'd',\n",
       "  'y': 'm',\n",
       "  'z': 'u'},\n",
       " {'a': 'n',\n",
       "  'b': 'e',\n",
       "  'c': 'k',\n",
       "  'd': 'i',\n",
       "  'e': 'b',\n",
       "  'f': 'm',\n",
       "  'g': 'v',\n",
       "  'h': 'w',\n",
       "  'i': 'd',\n",
       "  'j': 'u',\n",
       "  'k': 'c',\n",
       "  'l': 'p',\n",
       "  'm': 'f',\n",
       "  'n': 'a',\n",
       "  'o': 'y',\n",
       "  'p': 'l',\n",
       "  'q': 'x',\n",
       "  'r': 's',\n",
       "  's': 'r',\n",
       "  't': 'z',\n",
       "  'u': 'j',\n",
       "  'v': 'g',\n",
       "  'w': 'h',\n",
       "  'x': 'q',\n",
       "  'y': 'o',\n",
       "  'z': 't'},\n",
       " {'a': 'k',\n",
       "  'b': 'p',\n",
       "  'c': 's',\n",
       "  'd': 'z',\n",
       "  'e': 'w',\n",
       "  'f': 'y',\n",
       "  'g': 'j',\n",
       "  'h': 'q',\n",
       "  'i': 'x',\n",
       "  'j': 'g',\n",
       "  'k': 'a',\n",
       "  'l': 't',\n",
       "  'm': 'r',\n",
       "  'n': 'v',\n",
       "  'o': 'u',\n",
       "  'p': 'b',\n",
       "  'q': 'h',\n",
       "  'r': 'm',\n",
       "  's': 'c',\n",
       "  't': 'l',\n",
       "  'u': 'o',\n",
       "  'v': 'n',\n",
       "  'w': 'e',\n",
       "  'x': 'i',\n",
       "  'y': 'f',\n",
       "  'z': 'd'}]"
      ]
     },
     "execution_count": 16,
     "metadata": {},
     "output_type": "execute_result"
    }
   ],
   "source": [
    "_rotorDicts"
   ]
  },
  {
   "cell_type": "code",
   "execution_count": 56,
   "metadata": {},
   "outputs": [],
   "source": [
    "from CLIController import *\n",
    "em = EnigmaMachine([1,2,3],[['t', 's'], ['z', 'a'], ['e', 'n']])"
   ]
  },
  {
   "cell_type": "code",
   "execution_count": 57,
   "metadata": {},
   "outputs": [
    {
     "name": "stdout",
     "output_type": "stream",
     "text": [
      "{'a': 'g', 'b': 't', 'c': 'e', 'd': 'x', 'e': 'c', 'f': 'p', 'g': 'a', 'h': 'w', 'i': 'j', 'j': 'i', 'k': 'v', 'l': 'n', 'm': 'y', 'n': 'l', 'o': 'q', 'p': 'f', 'q': 'o', 'r': 's', 's': 'r', 't': 'b', 'u': 'z', 'v': 'k', 'w': 'h', 'x': 'd', 'y': 'm', 'z': 'u'}\n"
     ]
    },
    {
     "ename": "ValueError",
     "evalue": "not enough values to unpack (expected 2, got 1)",
     "output_type": "error",
     "traceback": [
      "\u001b[1;31m---------------------------------------------------------------------------\u001b[0m",
      "\u001b[1;31mValueError\u001b[0m                                Traceback (most recent call last)",
      "\u001b[1;32m<ipython-input-57-43a04402e97f>\u001b[0m in \u001b[0;36m<module>\u001b[1;34m()\u001b[0m\n\u001b[1;32m----> 1\u001b[1;33m \u001b[0mem\u001b[0m\u001b[1;33m.\u001b[0m\u001b[0mevaluate\u001b[0m\u001b[1;33m(\u001b[0m\u001b[1;34m'a'\u001b[0m\u001b[1;33m)\u001b[0m\u001b[1;33m\u001b[0m\u001b[0m\n\u001b[0m\u001b[0;32m      2\u001b[0m \u001b[0mem\u001b[0m\u001b[1;33m.\u001b[0m\u001b[0mrotors\u001b[0m\u001b[1;33m\u001b[0m\u001b[0m\n",
      "\u001b[1;32m~\\Documents\\projects\\enigma\\enigma\\EnigmaMachine.py\u001b[0m in \u001b[0;36mevaluate\u001b[1;34m(self, char)\u001b[0m\n\u001b[0;32m     37\u001b[0m         \u001b[0mreflector\u001b[0m \u001b[1;33m=\u001b[0m \u001b[0mRotor\u001b[0m\u001b[1;33m(\u001b[0m\u001b[1;33m-\u001b[0m\u001b[1;36m1\u001b[0m\u001b[1;33m)\u001b[0m\u001b[1;33m\u001b[0m\u001b[0m\n\u001b[0;32m     38\u001b[0m \u001b[1;33m\u001b[0m\u001b[0m\n\u001b[1;32m---> 39\u001b[1;33m \u001b[1;33m\u001b[0m\u001b[0m\n\u001b[0m\u001b[0;32m     40\u001b[0m \u001b[1;33m\u001b[0m\u001b[0m\n\u001b[0;32m     41\u001b[0m \u001b[1;33m\u001b[0m\u001b[0m\n",
      "\u001b[1;32m~\\Documents\\projects\\enigma\\enigma\\Rotor.py\u001b[0m in \u001b[0;36mevaluate\u001b[1;34m(self, char)\u001b[0m\n\u001b[0;32m     83\u001b[0m     \u001b[1;32mdef\u001b[0m \u001b[0mevaluate\u001b[0m\u001b[1;33m(\u001b[0m\u001b[0mself\u001b[0m\u001b[1;33m,\u001b[0m \u001b[0mchar\u001b[0m\u001b[1;33m)\u001b[0m\u001b[1;33m:\u001b[0m\u001b[1;33m\u001b[0m\u001b[0m\n\u001b[0;32m     84\u001b[0m         \u001b[1;32mif\u001b[0m \u001b[0mself\u001b[0m\u001b[1;33m.\u001b[0m\u001b[0m_type\u001b[0m \u001b[1;33m==\u001b[0m \u001b[1;34m'rotor'\u001b[0m\u001b[1;33m:\u001b[0m\u001b[1;33m\u001b[0m\u001b[0m\n\u001b[1;32m---> 85\u001b[1;33m             \u001b[0mself\u001b[0m\u001b[1;33m.\u001b[0m\u001b[0mrotate\u001b[0m\u001b[1;33m(\u001b[0m\u001b[1;33m)\u001b[0m\u001b[1;33m\u001b[0m\u001b[0m\n\u001b[0m\u001b[0;32m     86\u001b[0m         \u001b[1;32mreturn\u001b[0m \u001b[0mself\u001b[0m\u001b[1;33m.\u001b[0m\u001b[0m_rotorDict\u001b[0m\u001b[1;33m[\u001b[0m\u001b[0mchar\u001b[0m\u001b[1;33m]\u001b[0m\u001b[1;33m\u001b[0m\u001b[0m\n\u001b[0;32m     87\u001b[0m \u001b[1;33m\u001b[0m\u001b[0m\n",
      "\u001b[1;32m~\\Documents\\projects\\enigma\\enigma\\Rotor.py\u001b[0m in \u001b[0;36mrotate\u001b[1;34m(self)\u001b[0m\n\u001b[0;32m     72\u001b[0m         \u001b[1;31m# appropriate offset values.\u001b[0m\u001b[1;33m\u001b[0m\u001b[1;33m\u001b[0m\u001b[0m\n\u001b[0;32m     73\u001b[0m         \u001b[0mprint\u001b[0m\u001b[1;33m(\u001b[0m\u001b[0mself\u001b[0m\u001b[1;33m.\u001b[0m\u001b[0m_rotorDict\u001b[0m\u001b[1;33m)\u001b[0m\u001b[1;33m\u001b[0m\u001b[0m\n\u001b[1;32m---> 74\u001b[1;33m         \u001b[1;32mfor\u001b[0m \u001b[0mk\u001b[0m \u001b[1;32min\u001b[0m \u001b[0mself\u001b[0m\u001b[1;33m.\u001b[0m\u001b[0m_rotorDict\u001b[0m\u001b[1;33m:\u001b[0m\u001b[1;33m\u001b[0m\u001b[0m\n\u001b[0m\u001b[0;32m     75\u001b[0m             \u001b[0mdictList\u001b[0m\u001b[1;33m.\u001b[0m\u001b[0mappend\u001b[0m\u001b[1;33m(\u001b[0m\u001b[1;33m[\u001b[0m\u001b[0mk\u001b[0m\u001b[1;33m,\u001b[0m \u001b[0mself\u001b[0m\u001b[1;33m.\u001b[0m\u001b[0m_rotorDict\u001b[0m\u001b[1;33m[\u001b[0m\u001b[0mk\u001b[0m\u001b[1;33m]\u001b[0m\u001b[1;33m]\u001b[0m\u001b[1;33m)\u001b[0m\u001b[1;33m\u001b[0m\u001b[0m\n\u001b[0;32m     76\u001b[0m \u001b[1;33m\u001b[0m\u001b[0m\n",
      "\u001b[1;31mValueError\u001b[0m: not enough values to unpack (expected 2, got 1)"
     ]
    }
   ],
   "source": [
    "em.evaluate('a')\n",
    "em.rotors"
   ]
  },
  {
   "cell_type": "code",
   "execution_count": 55,
   "metadata": {},
   "outputs": [
    {
     "name": "stdout",
     "output_type": "stream",
     "text": [
      "{'a': 'g', 'b': 't', 'c': 'e', 'd': 'x', 'e': 'c', 'f': 'p', 'g': 'a', 'h': 'w', 'i': 'j', 'j': 'i', 'k': 'v', 'l': 'n', 'm': 'y', 'n': 'l', 'o': 'q', 'p': 'f', 'q': 'o', 'r': 's', 's': 'r', 't': 'b', 'u': 'z', 'v': 'k', 'w': 'h', 'x': 'd', 'y': 'm', 'z': 'u'}\n"
     ]
    },
    {
     "ename": "ValueError",
     "evalue": "not enough values to unpack (expected 2, got 1)",
     "output_type": "error",
     "traceback": [
      "\u001b[1;31m---------------------------------------------------------------------------\u001b[0m",
      "\u001b[1;31mValueError\u001b[0m                                Traceback (most recent call last)",
      "\u001b[1;32m<ipython-input-55-a16f1ab0d638>\u001b[0m in \u001b[0;36m<module>\u001b[1;34m()\u001b[0m\n\u001b[1;32m----> 1\u001b[1;33m \u001b[0mem\u001b[0m\u001b[1;33m.\u001b[0m\u001b[0mrotors\u001b[0m\u001b[1;33m[\u001b[0m\u001b[1;36m0\u001b[0m\u001b[1;33m]\u001b[0m\u001b[1;33m.\u001b[0m\u001b[0mevaluate\u001b[0m\u001b[1;33m(\u001b[0m\u001b[1;34m'a'\u001b[0m\u001b[1;33m)\u001b[0m\u001b[1;33m\u001b[0m\u001b[0m\n\u001b[0m",
      "\u001b[1;32m~\\Documents\\projects\\enigma\\enigma\\Rotor.py\u001b[0m in \u001b[0;36mevaluate\u001b[1;34m(self, char)\u001b[0m\n\u001b[0;32m     83\u001b[0m     \u001b[1;32mdef\u001b[0m \u001b[0mevaluate\u001b[0m\u001b[1;33m(\u001b[0m\u001b[0mself\u001b[0m\u001b[1;33m,\u001b[0m \u001b[0mchar\u001b[0m\u001b[1;33m)\u001b[0m\u001b[1;33m:\u001b[0m\u001b[1;33m\u001b[0m\u001b[0m\n\u001b[0;32m     84\u001b[0m         \u001b[1;32mif\u001b[0m \u001b[0mself\u001b[0m\u001b[1;33m.\u001b[0m\u001b[0m_type\u001b[0m \u001b[1;33m==\u001b[0m \u001b[1;34m'rotor'\u001b[0m\u001b[1;33m:\u001b[0m\u001b[1;33m\u001b[0m\u001b[0m\n\u001b[1;32m---> 85\u001b[1;33m             \u001b[0mself\u001b[0m\u001b[1;33m.\u001b[0m\u001b[0mrotate\u001b[0m\u001b[1;33m(\u001b[0m\u001b[1;33m)\u001b[0m\u001b[1;33m\u001b[0m\u001b[0m\n\u001b[0m\u001b[0;32m     86\u001b[0m         \u001b[1;32mreturn\u001b[0m \u001b[0mself\u001b[0m\u001b[1;33m.\u001b[0m\u001b[0m_rotorDict\u001b[0m\u001b[1;33m[\u001b[0m\u001b[0mchar\u001b[0m\u001b[1;33m]\u001b[0m\u001b[1;33m\u001b[0m\u001b[0m\n\u001b[0;32m     87\u001b[0m \u001b[1;33m\u001b[0m\u001b[0m\n",
      "\u001b[1;32m~\\Documents\\projects\\enigma\\enigma\\Rotor.py\u001b[0m in \u001b[0;36mrotate\u001b[1;34m(self)\u001b[0m\n\u001b[0;32m     72\u001b[0m         \u001b[1;31m# appropriate offset values.\u001b[0m\u001b[1;33m\u001b[0m\u001b[1;33m\u001b[0m\u001b[0m\n\u001b[0;32m     73\u001b[0m         \u001b[0mprint\u001b[0m\u001b[1;33m(\u001b[0m\u001b[0mself\u001b[0m\u001b[1;33m.\u001b[0m\u001b[0m_rotorDict\u001b[0m\u001b[1;33m)\u001b[0m\u001b[1;33m\u001b[0m\u001b[0m\n\u001b[1;32m---> 74\u001b[1;33m         \u001b[1;32mfor\u001b[0m \u001b[0mk\u001b[0m \u001b[1;32min\u001b[0m \u001b[0mself\u001b[0m\u001b[1;33m.\u001b[0m\u001b[0m_rotorDict\u001b[0m\u001b[1;33m:\u001b[0m\u001b[1;33m\u001b[0m\u001b[0m\n\u001b[0m\u001b[0;32m     75\u001b[0m             \u001b[0mdictList\u001b[0m\u001b[1;33m.\u001b[0m\u001b[0mappend\u001b[0m\u001b[1;33m(\u001b[0m\u001b[1;33m[\u001b[0m\u001b[0mk\u001b[0m\u001b[1;33m,\u001b[0m \u001b[0mself\u001b[0m\u001b[1;33m.\u001b[0m\u001b[0m_rotorDict\u001b[0m\u001b[1;33m[\u001b[0m\u001b[0mk\u001b[0m\u001b[1;33m]\u001b[0m\u001b[1;33m]\u001b[0m\u001b[1;33m)\u001b[0m\u001b[1;33m\u001b[0m\u001b[0m\n\u001b[0;32m     76\u001b[0m \u001b[1;33m\u001b[0m\u001b[0m\n",
      "\u001b[1;31mValueError\u001b[0m: not enough values to unpack (expected 2, got 1)"
     ]
    }
   ],
   "source": [
    "em.rotors[0].evaluate('a')"
   ]
  },
  {
   "cell_type": "code",
   "execution_count": 70,
   "metadata": {},
   "outputs": [
    {
     "name": "stdout",
     "output_type": "stream",
     "text": [
      "{'a': 'g', 'b': 't', 'c': 'e', 'd': 'x', 'e': 'c', 'f': 'p', 'g': 'a', 'h': 'w', 'i': 'j', 'j': 'i', 'k': 'v', 'l': 'n', 'm': 'y', 'n': 'l', 'o': 'q', 'p': 'f', 'q': 'o', 'r': 's', 's': 'r', 't': 'b', 'u': 'z', 'v': 'k', 'w': 'h', 'x': 'd', 'y': 'm', 'z': 'u'}\n"
     ]
    },
    {
     "ename": "ValueError",
     "evalue": "not enough values to unpack (expected 2, got 1)",
     "output_type": "error",
     "traceback": [
      "\u001b[1;31m---------------------------------------------------------------------------\u001b[0m",
      "\u001b[1;31mValueError\u001b[0m                                Traceback (most recent call last)",
      "\u001b[1;32m<ipython-input-70-a2acb45df8db>\u001b[0m in \u001b[0;36m<module>\u001b[1;34m()\u001b[0m\n\u001b[1;32m----> 1\u001b[1;33m \u001b[0mem\u001b[0m\u001b[1;33m.\u001b[0m\u001b[0mrotors\u001b[0m\u001b[1;33m[\u001b[0m\u001b[1;36m0\u001b[0m\u001b[1;33m]\u001b[0m\u001b[1;33m.\u001b[0m\u001b[0mrotate\u001b[0m\u001b[1;33m(\u001b[0m\u001b[1;33m)\u001b[0m\u001b[1;33m\u001b[0m\u001b[0m\n\u001b[0m",
      "\u001b[1;32m~\\Documents\\projects\\enigma\\enigma\\Rotor.py\u001b[0m in \u001b[0;36mrotate\u001b[1;34m(self)\u001b[0m\n\u001b[0;32m     72\u001b[0m         \u001b[1;31m# appropriate offset values.\u001b[0m\u001b[1;33m\u001b[0m\u001b[1;33m\u001b[0m\u001b[0m\n\u001b[0;32m     73\u001b[0m         \u001b[0mprint\u001b[0m\u001b[1;33m(\u001b[0m\u001b[0mself\u001b[0m\u001b[1;33m.\u001b[0m\u001b[0m_rotorDict\u001b[0m\u001b[1;33m)\u001b[0m\u001b[1;33m\u001b[0m\u001b[0m\n\u001b[1;32m---> 74\u001b[1;33m \u001b[1;33m\u001b[0m\u001b[0m\n\u001b[0m\u001b[0;32m     75\u001b[0m \u001b[1;33m\u001b[0m\u001b[0m\n\u001b[0;32m     76\u001b[0m         \u001b[1;32mfor\u001b[0m \u001b[0mindex\u001b[0m \u001b[1;32min\u001b[0m \u001b[0mrange\u001b[0m\u001b[1;33m(\u001b[0m\u001b[0mlen\u001b[0m\u001b[1;33m(\u001b[0m\u001b[0mdictList\u001b[0m\u001b[1;33m)\u001b[0m\u001b[1;33m)\u001b[0m\u001b[1;33m:\u001b[0m\u001b[1;33m\u001b[0m\u001b[0m\n",
      "\u001b[1;31mValueError\u001b[0m: not enough values to unpack (expected 2, got 1)"
     ]
    }
   ],
   "source": [
    "em.rotors[0].rotate()\n"
   ]
  },
  {
   "cell_type": "code",
   "execution_count": 66,
   "metadata": {},
   "outputs": [
    {
     "data": {
      "text/plain": [
       "[['a', 'g'],\n",
       " ['b', 't'],\n",
       " ['c', 'e'],\n",
       " ['d', 'x'],\n",
       " ['e', 'c'],\n",
       " ['f', 'p'],\n",
       " ['g', 'a'],\n",
       " ['h', 'w'],\n",
       " ['i', 'j'],\n",
       " ['j', 'i'],\n",
       " ['k', 'v'],\n",
       " ['l', 'n'],\n",
       " ['m', 'y'],\n",
       " ['n', 'l'],\n",
       " ['o', 'q'],\n",
       " ['p', 'f'],\n",
       " ['q', 'o'],\n",
       " ['r', 's'],\n",
       " ['s', 'r'],\n",
       " ['t', 'b'],\n",
       " ['u', 'z'],\n",
       " ['v', 'k'],\n",
       " ['w', 'h'],\n",
       " ['x', 'd'],\n",
       " ['y', 'm'],\n",
       " ['z', 'u']]"
      ]
     },
     "execution_count": 66,
     "metadata": {},
     "output_type": "execute_result"
    }
   ],
   "source": [
    "l = []\n",
    "for k in em.rotors[0]._rotorDict:\n",
    "    l.append([k, em.rotors[0]._rotorDict[k]])\n",
    "l"
   ]
  },
  {
   "cell_type": "code",
   "execution_count": 63,
   "metadata": {},
   "outputs": [
    {
     "data": {
      "text/plain": [
       "['a',\n",
       " 'b',\n",
       " 'c',\n",
       " 'd',\n",
       " 'e',\n",
       " 'f',\n",
       " 'g',\n",
       " 'h',\n",
       " 'i',\n",
       " 'j',\n",
       " 'k',\n",
       " 'l',\n",
       " 'm',\n",
       " 'n',\n",
       " 'o',\n",
       " 'p',\n",
       " 'q',\n",
       " 'r',\n",
       " 's',\n",
       " 't',\n",
       " 'u',\n",
       " 'v',\n",
       " 'w',\n",
       " 'x',\n",
       " 'y',\n",
       " 'z']"
      ]
     },
     "execution_count": 63,
     "metadata": {},
     "output_type": "execute_result"
    }
   ],
   "source": [
    "l"
   ]
  },
  {
   "cell_type": "code",
   "execution_count": null,
   "metadata": {},
   "outputs": [],
   "source": []
  }
 ],
 "metadata": {
  "kernelspec": {
   "display_name": "Python 3",
   "language": "python",
   "name": "python3"
  },
  "language_info": {
   "codemirror_mode": {
    "name": "ipython",
    "version": 3
   },
   "file_extension": ".py",
   "mimetype": "text/x-python",
   "name": "python",
   "nbconvert_exporter": "python",
   "pygments_lexer": "ipython3",
   "version": "3.6.2"
  }
 },
 "nbformat": 4,
 "nbformat_minor": 2
}
